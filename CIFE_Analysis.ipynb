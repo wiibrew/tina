{
 "cells": [
  {
   "cell_type": "code",
   "execution_count": 1,
   "metadata": {
    "collapsed": true,
    "deletable": true,
    "editable": true
   },
   "outputs": [],
   "source": [
    "import numpy as np\n",
    "import skimage"
   ]
  },
  {
   "cell_type": "code",
   "execution_count": 3,
   "metadata": {
    "collapsed": false,
    "deletable": true,
    "editable": true
   },
   "outputs": [
    {
     "name": "stdout",
     "output_type": "stream",
     "text": [
      "[[ 0.  0.  0. ...,  0.  0.  0.]\n",
      " [ 0.  0.  0. ...,  0.  0.  0.]\n",
      " [ 0.  0.  0. ...,  0.  0.  0.]\n",
      " ..., \n",
      " [ 0.  0.  0. ...,  0.  0.  0.]\n",
      " [ 0.  0.  0. ...,  0.  0.  0.]\n",
      " [ 0.  0.  0. ...,  0.  0.  0.]]\n",
      "[[  1.98160948e+03   2.80787734e+02   8.78493154e+00 ...,   2.59858218e+02\n",
      "   -2.02190156e+02   1.19983241e+01]\n",
      " [  9.79803570e+02   1.33201671e+02  -4.74525028e+01 ...,   9.74769801e+01\n",
      "   -8.43486756e+01  -2.25396728e+01]\n",
      " [  1.85020799e+03   1.51223209e+02  -1.14377433e+01 ...,   1.50745317e+02\n",
      "   -1.00814919e+02   5.73658378e+00]\n",
      " ..., \n",
      " [  2.67496041e+03   3.34166226e+02  -1.07230018e+02 ...,   2.56990833e+02\n",
      "   -2.00560845e+02   5.96989000e+00]\n",
      " [  2.79133017e+03   4.19042701e+02  -1.00108237e+02 ...,   2.81712843e+02\n",
      "   -1.79495904e+02  -1.14151674e+01]\n",
      " [  2.70167618e+03   2.64528772e+02  -1.73249497e+01 ...,   2.14740858e+02\n",
      "   -1.81782040e+02   4.21707265e-01]]\n",
      "[ 1905.   975.  1381.  3636.  2381.  2485.  1994.]\n"
     ]
    }
   ],
   "source": [
    "prepath='/media/wei/DATA/CIFEv2.0/npy_autoencode/'\n",
    "fp1=open('train_fvgg_emo.txt','r')\n",
    "fp2=open('test_fvgg_emo.txt','r')\n",
    "\n",
    "l1=fp1.readlines()\n",
    "l2=fp2.readlines()\n",
    "#this is all the image files, but same to all thenpy files\n",
    "\n",
    "#check all the files, and compute the center of 7 emotions\n",
    "\n",
    "lines=l1+l2\n",
    "\n",
    "emo_centers=np.zeros((7,1024))\n",
    "emo_cnt=np.zeros((7,))\n",
    "print emo_centers\n",
    "for l in lines:\n",
    "    fname,label=l[:-1].split(' ')\n",
    "    fname=fname.replace('.jpg','.npy')\n",
    "    fname=prepath+fname\n",
    "    label_int=int(label)\n",
    "    emo_centers[label_int,:]+=np.load(fname)\n",
    "    emo_cnt[label_int]+=1\n",
    "print emo_centers\n",
    "print emo_cnt\n"
   ]
  },
  {
   "cell_type": "code",
   "execution_count": 4,
   "metadata": {
    "collapsed": true,
    "deletable": true,
    "editable": true
   },
   "outputs": [],
   "source": [
    "#allready get the sum of all the emotion features, next step, \n",
    "#compute distance confusion matrix based on emotion centers\n",
    "\n",
    "emo_center_sum=emo_centers\n",
    "\n",
    "for i in range(7):\n",
    "    emo_centers[i,:]/=emo_cnt[i]\n"
   ]
  },
  {
   "cell_type": "code",
   "execution_count": 5,
   "metadata": {
    "collapsed": false,
    "deletable": true,
    "editable": true
   },
   "outputs": [
    {
     "name": "stdout",
     "output_type": "stream",
     "text": [
      "[[ 173.39969422  186.171554    164.69213202  155.68209092  194.27092832\n",
      "   169.3596224   162.2164705 ]\n",
      " [ 225.24586735  225.82135677  232.63297988  222.02840128  226.28750526\n",
      "   228.98946481  229.35520765]\n",
      " [ 400.02365043  416.45262083  441.76654269  439.35036514  395.85505025\n",
      "   414.27514237  457.16491605]\n",
      " [ 174.84896671  194.03465929  175.77734769  165.02419356  192.77420393\n",
      "   180.3999285   177.78850605]\n",
      " [ 199.74423955  188.84282985  190.37670117  206.87122835  186.29369261\n",
      "   204.67267244  190.31389628]\n",
      " [ 232.8687751   247.7954519   224.76439128  230.3976978   242.90283264\n",
      "   235.22480796  224.18714968]\n",
      " [ 160.92170909  163.88366607  156.90741183  155.48577689  163.33398958\n",
      "   163.35338412  155.99904055]]\n"
     ]
    }
   ],
   "source": [
    "cross_emo_distance=np.zeros((7,7))\n",
    "for l in lines:\n",
    "    fname,label=l[:-1].split(' ')\n",
    "    fname=fname.replace('.jpg','.npy')\n",
    "    fname=prepath+fname\n",
    "    label_int=int(label)\n",
    "    np_arr=np.load(fname)\n",
    "    for i in range(7):\n",
    "        np_diff=np_arr-emo_centers[i,:]\n",
    "        cross_emo_distance[label_int][i]=np.sum(np.square(np_diff))\n"
   ]
  },
  {
   "cell_type": "code",
   "execution_count": 6,
   "metadata": {
    "collapsed": false,
    "deletable": true,
    "editable": true
   },
   "outputs": [
    {
     "name": "stdout",
     "output_type": "stream",
     "text": [
      "[[ 0.09102346  0.09772785  0.08645256  0.08172288  0.10197949  0.08890269\n",
      "   0.085153  ]\n",
      " [ 0.2310214   0.23161165  0.23859793  0.22772144  0.23208975  0.23486099\n",
      "   0.23523611]\n",
      " [ 0.28966231  0.30155874  0.31988888  0.31813929  0.28664377  0.299982\n",
      "   0.33103904]\n",
      " [ 0.04808827  0.05336487  0.0483436   0.04538619  0.05301821  0.04961494\n",
      "   0.04889673]\n",
      " [ 0.0838909   0.0793124   0.07995662  0.08688418  0.07824179  0.0859608\n",
      "   0.07993024]\n",
      " [ 0.09370977  0.09971648  0.09044845  0.09271537  0.09774762  0.09465787\n",
      "   0.09021616]\n",
      " [ 0.08070296  0.0821884   0.07868978  0.07797682  0.08191273  0.08192246\n",
      "   0.07823422]]\n"
     ]
    }
   ],
   "source": [
    "for i in range(7):\n",
    "    cross_emo_distance[i,:]/=emo_cnt[i]\n",
    "print cross_emo_distance"
   ]
  },
  {
   "cell_type": "code",
   "execution_count": null,
   "metadata": {
    "collapsed": true,
    "deletable": true,
    "editable": true
   },
   "outputs": [],
   "source": [
    "# try to use median value as emotion center\n"
   ]
  }
 ],
 "metadata": {
  "kernelspec": {
   "display_name": "Python 2",
   "language": "python",
   "name": "python2"
  },
  "language_info": {
   "codemirror_mode": {
    "name": "ipython",
    "version": 2
   },
   "file_extension": ".py",
   "mimetype": "text/x-python",
   "name": "python",
   "nbconvert_exporter": "python",
   "pygments_lexer": "ipython2",
   "version": "2.7.12"
  }
 },
 "nbformat": 4,
 "nbformat_minor": 2
}
