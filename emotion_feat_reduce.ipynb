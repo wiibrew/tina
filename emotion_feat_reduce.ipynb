{
 "cells": [
  {
   "cell_type": "code",
   "execution_count": 1,
   "metadata": {
    "collapsed": false
   },
   "outputs": [
    {
     "name": "stdout",
     "output_type": "stream",
     "text": [
      "1905\n",
      "975\n",
      "1381\n",
      "3636\n",
      "2381\n",
      "2485\n",
      "1994\n"
     ]
    }
   ],
   "source": [
    "import numpy as np\n",
    "import os\n",
    "\n",
    "###1. feat center\n",
    "fp1=open('test_emo.txt','r')\n",
    "fp2=open('train_emo.txt','r')\n",
    "l1=fp1.readlines()\n",
    "l2=fp2.readlines()\n",
    "\n",
    "\n",
    "feat_center=np.ndarray((7,2048))\n",
    "feat_buff_list=[]\n",
    "for i in range(7):feat_buff_list.append([])#get empty buff for saving all feat\n",
    "for i,l in enumerate(l1+l2):\n",
    "\tlname,lb=l[:-1].split(' ')\n",
    "\n",
    "\tnparr=np.load('npy_imgfeat/'+lname.replace('.jpg','.npy'))\n",
    "\tnparr=nparr[0,...]\n",
    "\t# if i<10:print nparr[1000:1050]\n",
    "\tfeat_buff_list[int(lb)]+=[nparr]\n",
    "\n",
    "for i in range(7):\n",
    "\tprint len(feat_buff_list[i])\n",
    "\tfeat_center[i,:]=np.median(np.array(feat_buff_list[i]),axis=0)\n",
    "\t# print feat_center[i,1000:1050]\n",
    " \n",
    "###2. disntance to own center\n",
    "dist2center=[]\n",
    "for i in range(7):\n",
    "\tdist2center.append([])\n",
    "for i,l in enumerate(l1+l2):\n",
    "\tlname,lb=l[:-1].split(' ')\n",
    "\tnparr=np.load('npy_imgfeat/'+lname.replace('.jpg','.npy'))\n",
    "\tlb=int(lb)\n",
    "\tdist=np.sum(np.square(nparr-feat_center[lb,:]))/1024\n",
    "\tdist2center[lb]+=[[lname,dist]]\t\n",
    "\n",
    "for i in range(7):\n",
    "\tdist2center[i]=sorted(dist2center[i],key=lambda x: x[1])\n",
    "\t# dist2center[i,:]=sorted(dist2center[i,:],key=operator.itemgetter(1))\n",
    "\t# print dist2center[i][:10]"
   ]
  },
  {
   "cell_type": "code",
   "execution_count": 2,
   "metadata": {
    "collapsed": false
   },
   "outputs": [
    {
     "name": "stdout",
     "output_type": "stream",
     "text": [
      "emo: 0\n",
      "9.49456747272\n",
      "45.7427367192\n",
      "emo: 1\n",
      "8.26589280402\n",
      "42.1484923972\n",
      "emo: 2\n",
      "8.21139572747\n",
      "46.9413262017\n",
      "emo: 3\n",
      "9.38532752806\n",
      "42.0609984155\n",
      "emo: 4\n",
      "7.20854090149\n",
      "42.8680814231\n",
      "emo: 5\n",
      "9.74687889948\n",
      "44.0493429873\n",
      "emo: 6\n",
      "10.1551246729\n",
      "47.182200975\n",
      "[[ 14.1651113   15.52895355  17.00977519  16.5072325   16.57259936\n",
      "   15.48842945  18.03372207]\n",
      " [  7.40285905   6.67683357   8.14907773   7.92842734   6.9680425\n",
      "    7.47033418   8.46313662]\n",
      " [ 12.00244688  11.94540408  10.33500943  13.07280886  12.2673534\n",
      "   12.27212878  10.84814928]\n",
      " [ 30.50475392  30.70308675  34.42804112  25.34804856  33.44035426\n",
      "   30.85824849  35.46099066]\n",
      " [ 18.80285275  16.401033    19.85686647  20.57292181  15.97260416\n",
      "   19.11902384  20.03286767]\n",
      " [ 18.93833028  19.19920141  21.4626177   20.53114385  20.71361085\n",
      "   17.28771786  23.42928063]\n",
      " [ 18.32763146  17.80860841  15.68496615  19.27817958  17.81276594\n",
      "   19.20800411  14.78308224]]\n"
     ]
    }
   ],
   "source": [
    "###3. get most close 90%\n",
    "\n",
    "#generate new files \n",
    "fn1=open('new_train_emo.txt','w')\n",
    "fn2=open('new_test_emo.txt','w')\n",
    "\n",
    "fw_line_tr=[]\n",
    "fw_line_ts=[]\n",
    "for i in range(7):\n",
    "\tprint 'emo: '+str(i)\n",
    "\tnum=len(dist2center[i])\n",
    "\tprint dist2center[i][0][1]\n",
    "\tfor j in range(int(num*0.9)):\n",
    "\t\tif 'webemo_tr' in dist2center[i][j][0]:\n",
    "\t\t\tfname=dist2center[i][j][0]\n",
    "\t\t\tfw_line_tr+=[fname+' '+str(i)]\n",
    "\t\telse:\n",
    "\t\t\tfname=dist2center[i][j][0]\n",
    "\t\t\tfw_line_ts+=[fname+' '+str(i)]\n",
    "\tprint dist2center[i][j][1]\n",
    "import random\n",
    "\n",
    "random.shuffle(fw_line_ts)\n",
    "random.shuffle(fw_line_tr)\n",
    "\n",
    "for f in fw_line_tr:\n",
    "\tfn1.write(f+'\\n')\n",
    "for f in fw_line_ts:\n",
    "\tfn2.write(f+'\\n')\n",
    "\n",
    "#checkout confusion matrix\n",
    "confusion_mt=np.ndarray((7,7))\n",
    "for i,l in enumerate(l1+l2):\n",
    "\tlname,lb=l[:-1].split(' ')\n",
    "\tnparr=np.load('npy_imgfeat/'+lname.replace('.jpg','.npy'))\n",
    "\tlb=int(lb)\n",
    "\tfor j in range(7):\n",
    "\t\tdist=np.sum(np.square(nparr-feat_center[j,:]))/2048\n",
    "\t\tconfusion_mt[lb,j]+=dist\n",
    "for i in range(7):\n",
    "\tconfusion_mt[i,:]/=len(feat_center[i])\n",
    "\n",
    "print confusion_mt"
   ]
  },
  {
   "cell_type": "code",
   "execution_count": 3,
   "metadata": {
    "collapsed": false
   },
   "outputs": [
    {
     "name": "stdout",
     "output_type": "stream",
     "text": [
      "[[ 12.75858424  14.15557856  15.37637761  15.19890705  15.13475988\n",
      "   13.99992953  16.43976358]\n",
      " [  6.64372261   5.96847399   7.27155654   7.24854576   6.22326034\n",
      "    6.68602654   7.61147747]\n",
      " [ 10.99313489  10.96044259   9.25579068  12.13448529  11.24862903\n",
      "   11.21566711   9.79076307]\n",
      " [ 27.82710198  28.03863405  31.38434209  23.02815136  30.59785693\n",
      "   28.11898594  32.44548081]\n",
      " [ 16.8297464   14.5126955   17.59110098  18.79824696  13.98885662\n",
      "   17.05900559  17.83146365]\n",
      " [ 16.93996993  17.1742661   19.07280975  18.72981004  18.51013032\n",
      "   15.29941919  21.01552023]\n",
      " [ 16.7825751   16.32661158  13.9211581   18.01705447  16.2528047\n",
      "   17.5957985   13.0960865 ]]\n"
     ]
    }
   ],
   "source": [
    "fn1=open('new_train_emo.txt','r')\n",
    "fn2=open('new_test_emo.txt','r')\n",
    "ln1=fn1.readlines()\n",
    "ln2=fn2.readlines()\n",
    "\n",
    "###5 try out the new confusion matrix\n",
    "\n",
    "confusion_mt=np.ndarray((7,7))\n",
    "for i,l in enumerate(ln1+ln2):\n",
    "\tlname,lb=l[:-1].split(' ')\n",
    "\tnparr=np.load('npy_imgfeat/'+lname.replace('.jpg','.npy'))\n",
    "\tlb=int(lb)\n",
    "\tfor j in range(7):\n",
    "\t\tdist=np.sum(np.square(nparr-feat_center[j,:]))/2048\n",
    "\t\tconfusion_mt[lb,j]+=dist\n",
    "for i in range(7):\n",
    "\tconfusion_mt[i,:]/=len(feat_center[i])*0.9\n",
    "\n",
    "print confusion_mt"
   ]
  },
  {
   "cell_type": "code",
   "execution_count": null,
   "metadata": {
    "collapsed": true
   },
   "outputs": [],
   "source": []
  }
 ],
 "metadata": {
  "kernelspec": {
   "display_name": "Python 2",
   "language": "python",
   "name": "python2"
  },
  "language_info": {
   "codemirror_mode": {
    "name": "ipython",
    "version": 2
   },
   "file_extension": ".py",
   "mimetype": "text/x-python",
   "name": "python",
   "nbconvert_exporter": "python",
   "pygments_lexer": "ipython2",
   "version": "2.7.12"
  }
 },
 "nbformat": 4,
 "nbformat_minor": 2
}
